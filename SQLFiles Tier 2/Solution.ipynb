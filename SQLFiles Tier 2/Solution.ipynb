{
 "cells": [
  {
   "cell_type": "code",
   "execution_count": 1,
   "metadata": {},
   "outputs": [],
   "source": [
    "import sqlite3\n",
    "from sqlite3 import Error"
   ]
  },
  {
   "cell_type": "code",
   "execution_count": 2,
   "metadata": {},
   "outputs": [],
   "source": [
    "def create_connection(db_file):\n",
    "    \"\"\" create a database connection to the SQLite database\n",
    "        specified by the db_file\n",
    "    :param db_file: database file\n",
    "    :return: Connection object or None\n",
    "    \"\"\"\n",
    "    conn = None\n",
    "    try:\n",
    "        conn = sqlite3.connect(db_file)\n",
    "        print(sqlite3.version)\n",
    "    except Error as e:\n",
    "        print(e)\n",
    " \n",
    "    return conn"
   ]
  },
  {
   "cell_type": "code",
   "execution_count": 3,
   "metadata": {},
   "outputs": [
    {
     "name": "stdout",
     "output_type": "stream",
     "text": [
      "2.6.0\n"
     ]
    }
   ],
   "source": [
    "database = \"sqlite_db_pythonsqlite.db\"\n",
    "conn = create_connection(database)"
   ]
  },
  {
   "cell_type": "code",
   "execution_count": 4,
   "metadata": {},
   "outputs": [],
   "source": [
    "def run_task(query, conn=conn):\n",
    "    cur = conn.cursor()\n",
    "    cur.execute(query);\n",
    "    rows = cur.fetchall()\n",
    "    for row in rows:\n",
    "        print(row)"
   ]
  },
  {
   "cell_type": "code",
   "execution_count": 5,
   "metadata": {},
   "outputs": [],
   "source": [
    "query1 = \"\"\"\n",
    "    SELECT name\n",
    "    FROM Facilities\n",
    "    WHERE membercost > 0;\n",
    "    \"\"\""
   ]
  },
  {
   "cell_type": "code",
   "execution_count": 6,
   "metadata": {},
   "outputs": [
    {
     "name": "stdout",
     "output_type": "stream",
     "text": [
      "('Tennis Court 1',)\n",
      "('Tennis Court 2',)\n",
      "('Massage Room 1',)\n",
      "('Massage Room 2',)\n",
      "('Squash Court',)\n"
     ]
    }
   ],
   "source": [
    "run_task(query1)"
   ]
  },
  {
   "cell_type": "code",
   "execution_count": 7,
   "metadata": {},
   "outputs": [],
   "source": [
    "query2= \"\"\"\n",
    "    SELECT name\n",
    "    FROM Facilities\n",
    "    WHERE membercost = 0;\n",
    "    \"\"\""
   ]
  },
  {
   "cell_type": "code",
   "execution_count": 8,
   "metadata": {},
   "outputs": [
    {
     "name": "stdout",
     "output_type": "stream",
     "text": [
      "('Badminton Court',)\n",
      "('Table Tennis',)\n",
      "('Snooker Table',)\n",
      "('Pool Table',)\n"
     ]
    }
   ],
   "source": [
    "run_task(query2)"
   ]
  },
  {
   "cell_type": "code",
   "execution_count": 9,
   "metadata": {},
   "outputs": [],
   "source": [
    "query3 = \"\"\"\n",
    "    SELECT facid, name, membercost, monthlymaintenance\n",
    "    FROM Facilities\n",
    "    WHERE membercost > 0 AND membercost < 0.2 * monthlymaintenance;\n",
    "    \"\"\""
   ]
  },
  {
   "cell_type": "code",
   "execution_count": 10,
   "metadata": {},
   "outputs": [
    {
     "name": "stdout",
     "output_type": "stream",
     "text": [
      "(0, 'Tennis Court 1', 5, 200)\n",
      "(1, 'Tennis Court 2', 5, 200)\n",
      "(4, 'Massage Room 1', 9.9, 3000)\n",
      "(5, 'Massage Room 2', 9.9, 3000)\n",
      "(6, 'Squash Court', 3.5, 80)\n"
     ]
    }
   ],
   "source": [
    "run_task(query3)"
   ]
  },
  {
   "cell_type": "code",
   "execution_count": 11,
   "metadata": {},
   "outputs": [],
   "source": [
    "query4 = \"\"\"\n",
    "    SELECT *\n",
    "    FROM Facilities\n",
    "    WHERE facid IN (1,5)\n",
    "\"\"\""
   ]
  },
  {
   "cell_type": "code",
   "execution_count": 12,
   "metadata": {},
   "outputs": [
    {
     "name": "stdout",
     "output_type": "stream",
     "text": [
      "(1, 'Tennis Court 2', 5, 25, 8000, 200)\n",
      "(5, 'Massage Room 2', 9.9, 80, 4000, 3000)\n"
     ]
    }
   ],
   "source": [
    "run_task(query4)"
   ]
  },
  {
   "cell_type": "code",
   "execution_count": 13,
   "metadata": {},
   "outputs": [],
   "source": [
    "query5 = \"\"\"\n",
    "    SELECT name, monthlymaintenance,\n",
    "    CASE \n",
    "        WHEN monthlymaintenance > 100 THEN 'expensive'\n",
    "        ELSE 'cheap'\n",
    "    END AS expenselabel\n",
    "    FROM Facilities\n",
    "\"\"\""
   ]
  },
  {
   "cell_type": "code",
   "execution_count": 14,
   "metadata": {},
   "outputs": [
    {
     "name": "stdout",
     "output_type": "stream",
     "text": [
      "('Tennis Court 1', 200, 'expensive')\n",
      "('Tennis Court 2', 200, 'expensive')\n",
      "('Badminton Court', 50, 'cheap')\n",
      "('Table Tennis', 10, 'cheap')\n",
      "('Massage Room 1', 3000, 'expensive')\n",
      "('Massage Room 2', 3000, 'expensive')\n",
      "('Squash Court', 80, 'cheap')\n",
      "('Snooker Table', 15, 'cheap')\n",
      "('Pool Table', 15, 'cheap')\n"
     ]
    }
   ],
   "source": [
    "run_task(query5)"
   ]
  },
  {
   "cell_type": "code",
   "execution_count": 15,
   "metadata": {},
   "outputs": [],
   "source": [
    "query6 = \"\"\"\n",
    "    SELECT firstname, surname\n",
    "    FROM `Members`\n",
    "    WHERE joindate = (SELECT MAX(joindate) FROM `Members`);\n",
    "\"\"\""
   ]
  },
  {
   "cell_type": "code",
   "execution_count": 16,
   "metadata": {},
   "outputs": [
    {
     "name": "stdout",
     "output_type": "stream",
     "text": [
      "('Darren', 'Smith')\n"
     ]
    }
   ],
   "source": [
    "run_task(query6)"
   ]
  },
  {
   "cell_type": "code",
   "execution_count": 17,
   "metadata": {},
   "outputs": [],
   "source": [
    "query7 = \"\"\"\n",
    "    SELECT DISTINCT f.name, m.firstname || ' ' || m.surname AS membername\n",
    "    FROM Bookings AS b\n",
    "    INNER JOIN Facilities AS f\n",
    "    USING(facid)\n",
    "    INNER JOIN Members AS m\n",
    "    USING(memid)\n",
    "    WHERE b.facid IN (0,1)\n",
    "    ORDER BY membername;\n",
    "\"\"\""
   ]
  },
  {
   "cell_type": "code",
   "execution_count": 18,
   "metadata": {},
   "outputs": [
    {
     "name": "stdout",
     "output_type": "stream",
     "text": [
      "('Tennis Court 1', 'Anne Baker')\n",
      "('Tennis Court 2', 'Anne Baker')\n",
      "('Tennis Court 2', 'Burton Tracy')\n",
      "('Tennis Court 1', 'Burton Tracy')\n",
      "('Tennis Court 1', 'Charles Owen')\n",
      "('Tennis Court 2', 'Charles Owen')\n",
      "('Tennis Court 2', 'Darren Smith')\n",
      "('Tennis Court 1', 'David Farrell')\n",
      "('Tennis Court 2', 'David Farrell')\n",
      "('Tennis Court 2', 'David Jones')\n",
      "('Tennis Court 1', 'David Jones')\n",
      "('Tennis Court 1', 'David Pinker')\n",
      "('Tennis Court 1', 'Douglas Jones')\n",
      "('Tennis Court 1', 'Erica Crumpet')\n",
      "('Tennis Court 2', 'Florence Bader')\n",
      "('Tennis Court 1', 'Florence Bader')\n",
      "('Tennis Court 2', 'GUEST GUEST')\n",
      "('Tennis Court 1', 'GUEST GUEST')\n",
      "('Tennis Court 1', 'Gerald Butters')\n",
      "('Tennis Court 2', 'Gerald Butters')\n",
      "('Tennis Court 2', 'Henrietta Rumney')\n",
      "('Tennis Court 1', 'Jack Smith')\n",
      "('Tennis Court 2', 'Jack Smith')\n",
      "('Tennis Court 1', 'Janice Joplette')\n",
      "('Tennis Court 2', 'Janice Joplette')\n",
      "('Tennis Court 2', 'Jemima Farrell')\n",
      "('Tennis Court 1', 'Jemima Farrell')\n",
      "('Tennis Court 1', 'Joan Coplin')\n",
      "('Tennis Court 1', 'John Hunt')\n",
      "('Tennis Court 2', 'John Hunt')\n",
      "('Tennis Court 1', 'Matthew Genting')\n",
      "('Tennis Court 2', 'Millicent Purview')\n",
      "('Tennis Court 2', 'Nancy Dare')\n",
      "('Tennis Court 1', 'Nancy Dare')\n",
      "('Tennis Court 2', 'Ponder Stibbons')\n",
      "('Tennis Court 1', 'Ponder Stibbons')\n",
      "('Tennis Court 2', 'Ramnaresh Sarwin')\n",
      "('Tennis Court 1', 'Ramnaresh Sarwin')\n",
      "('Tennis Court 2', 'Tim Boothe')\n",
      "('Tennis Court 1', 'Tim Boothe')\n",
      "('Tennis Court 2', 'Tim Rownam')\n",
      "('Tennis Court 1', 'Tim Rownam')\n",
      "('Tennis Court 2', 'Timothy Baker')\n",
      "('Tennis Court 1', 'Timothy Baker')\n",
      "('Tennis Court 1', 'Tracy Smith')\n",
      "('Tennis Court 2', 'Tracy Smith')\n"
     ]
    }
   ],
   "source": [
    "run_task(query7)"
   ]
  },
  {
   "cell_type": "code",
   "execution_count": 19,
   "metadata": {},
   "outputs": [],
   "source": [
    "query8 = \"\"\"\n",
    "    SELECT f.name, m.firstname || ' ' || m.surname AS membername,\n",
    "    CASE \n",
    "        WHEN b.memid=0 THEN guestcost*slots\n",
    "        ELSE membercost*slots\n",
    "    END AS cost\n",
    "    FROM Bookings AS b\n",
    "    INNER JOIN Facilities AS f\n",
    "    USING(facid)\n",
    "    INNER JOIN Members AS m\n",
    "    USING(memid)\n",
    "    WHERE starttime LIKE '2012-09-14%' AND cost > 30\n",
    "    ORDER BY cost DESC;\n",
    "\"\"\""
   ]
  },
  {
   "cell_type": "code",
   "execution_count": 20,
   "metadata": {},
   "outputs": [
    {
     "name": "stdout",
     "output_type": "stream",
     "text": [
      "('Massage Room 2', 'GUEST GUEST', 320)\n",
      "('Massage Room 1', 'GUEST GUEST', 160)\n",
      "('Massage Room 1', 'GUEST GUEST', 160)\n",
      "('Massage Room 1', 'GUEST GUEST', 160)\n",
      "('Tennis Court 2', 'GUEST GUEST', 150)\n",
      "('Tennis Court 1', 'GUEST GUEST', 75)\n",
      "('Tennis Court 1', 'GUEST GUEST', 75)\n",
      "('Tennis Court 2', 'GUEST GUEST', 75)\n",
      "('Squash Court', 'GUEST GUEST', 70.0)\n",
      "('Massage Room 1', 'Jemima Farrell', 39.6)\n",
      "('Squash Court', 'GUEST GUEST', 35.0)\n",
      "('Squash Court', 'GUEST GUEST', 35.0)\n"
     ]
    }
   ],
   "source": [
    "run_task(query8)"
   ]
  },
  {
   "cell_type": "code",
   "execution_count": 21,
   "metadata": {},
   "outputs": [],
   "source": [
    "query9 = \"\"\"\n",
    "    SELECT f.name, m.firstname || ' ' || m.surname AS membername,\n",
    "    CASE \n",
    "        WHEN b.memid=0 THEN guestcost*slots\n",
    "        ELSE membercost*slots\n",
    "    END AS cost\n",
    "    FROM (SELECT * FROM Bookings WHERE starttime LIKE '2012-09-14%') AS b\n",
    "    INNER JOIN Facilities AS f\n",
    "    USING(facid)\n",
    "    INNER JOIN Members AS m\n",
    "    USING(memid)\n",
    "    WHERE cost > 30\n",
    "    ORDER BY cost DESC;\n",
    "\"\"\""
   ]
  },
  {
   "cell_type": "code",
   "execution_count": 22,
   "metadata": {},
   "outputs": [
    {
     "name": "stdout",
     "output_type": "stream",
     "text": [
      "('Massage Room 2', 'GUEST GUEST', 320)\n",
      "('Massage Room 1', 'GUEST GUEST', 160)\n",
      "('Massage Room 1', 'GUEST GUEST', 160)\n",
      "('Massage Room 1', 'GUEST GUEST', 160)\n",
      "('Tennis Court 2', 'GUEST GUEST', 150)\n",
      "('Tennis Court 1', 'GUEST GUEST', 75)\n",
      "('Tennis Court 1', 'GUEST GUEST', 75)\n",
      "('Tennis Court 2', 'GUEST GUEST', 75)\n",
      "('Squash Court', 'GUEST GUEST', 70.0)\n",
      "('Massage Room 1', 'Jemima Farrell', 39.6)\n",
      "('Squash Court', 'GUEST GUEST', 35.0)\n",
      "('Squash Court', 'GUEST GUEST', 35.0)\n"
     ]
    }
   ],
   "source": [
    "run_task(query9)"
   ]
  },
  {
   "cell_type": "code",
   "execution_count": 23,
   "metadata": {},
   "outputs": [],
   "source": [
    "query10 = \"\"\"\n",
    "    SELECT name, SUM(revenue) AS totalrevenue \n",
    "    FROM (SELECT f.name,  \n",
    "            CASE \n",
    "                WHEN b.memid != 0 THEN f.membercost*b.slots \n",
    "                ELSE f.guestcost*b.slots \n",
    "            END AS revenue\n",
    "    FROM Facilities AS f \n",
    "    INNER JOIN Bookings AS b\n",
    "    ON b.facid = f.facid) AS sub\n",
    "    GROUP BY sub.name\n",
    "    HAVING totalrevenue < 1000\n",
    "    ORDER BY totalrevenue;\n",
    "\"\"\""
   ]
  },
  {
   "cell_type": "code",
   "execution_count": 24,
   "metadata": {},
   "outputs": [
    {
     "name": "stdout",
     "output_type": "stream",
     "text": [
      "('Table Tennis', 180)\n",
      "('Snooker Table', 240)\n",
      "('Pool Table', 270)\n"
     ]
    }
   ],
   "source": [
    "run_task(query10)"
   ]
  },
  {
   "cell_type": "code",
   "execution_count": 25,
   "metadata": {},
   "outputs": [],
   "source": [
    "query11 = \"\"\"\n",
    "    SELECT m1.firstname, m1.surname, m2.firstname, m2.surname    \n",
    "    FROM Members AS m1\n",
    "    INNER JOIN Members AS m2\n",
    "    ON m1.recommendedby = m2.memid\n",
    "    WHERE m1.recommendedby > 0\n",
    "    ORDER BY m1.surname, m1.firstname;\n",
    "\"\"\""
   ]
  },
  {
   "cell_type": "code",
   "execution_count": 26,
   "metadata": {},
   "outputs": [
    {
     "name": "stdout",
     "output_type": "stream",
     "text": [
      "('Florence', 'Bader', 'Ponder', 'Stibbons')\n",
      "('Anne', 'Baker', 'Ponder', 'Stibbons')\n",
      "('Timothy', 'Baker', 'Jemima', 'Farrell')\n",
      "('Tim', 'Boothe', 'Tim', 'Rownam')\n",
      "('Gerald', 'Butters', 'Darren', 'Smith')\n",
      "('Joan', 'Coplin', 'Timothy', 'Baker')\n",
      "('Erica', 'Crumpet', 'Tracy', 'Smith')\n",
      "('Nancy', 'Dare', 'Janice', 'Joplette')\n",
      "('Matthew', 'Genting', 'Gerald', 'Butters')\n",
      "('John', 'Hunt', 'Millicent', 'Purview')\n",
      "('David', 'Jones', 'Janice', 'Joplette')\n",
      "('Douglas', 'Jones', 'David', 'Jones')\n",
      "('Janice', 'Joplette', 'Darren', 'Smith')\n",
      "('Anna', 'Mackenzie', 'Darren', 'Smith')\n",
      "('Charles', 'Owen', 'Darren', 'Smith')\n",
      "('David', 'Pinker', 'Jemima', 'Farrell')\n",
      "('Millicent', 'Purview', 'Tracy', 'Smith')\n",
      "('Henrietta', 'Rumney', 'Matthew', 'Genting')\n",
      "('Ramnaresh', 'Sarwin', 'Florence', 'Bader')\n",
      "('Jack', 'Smith', 'Darren', 'Smith')\n",
      "('Ponder', 'Stibbons', 'Burton', 'Tracy')\n",
      "('Henry', 'Worthington-Smyth', 'Tracy', 'Smith')\n"
     ]
    }
   ],
   "source": [
    "run_task(query11)"
   ]
  },
  {
   "cell_type": "code",
   "execution_count": 27,
   "metadata": {},
   "outputs": [],
   "source": [
    "query12 = \"\"\"\n",
    "    SELECT name, COUNT(memid) AS memusage\n",
    "    FROM Bookings\n",
    "    INNER JOIN Facilities\n",
    "    USING(facid)\n",
    "    WHERE memid != 0\n",
    "    GROUP BY name;\n",
    "\"\"\""
   ]
  },
  {
   "cell_type": "code",
   "execution_count": 28,
   "metadata": {},
   "outputs": [
    {
     "name": "stdout",
     "output_type": "stream",
     "text": [
      "('Badminton Court', 344)\n",
      "('Massage Room 1', 421)\n",
      "('Massage Room 2', 27)\n",
      "('Pool Table', 783)\n",
      "('Snooker Table', 421)\n",
      "('Squash Court', 195)\n",
      "('Table Tennis', 385)\n",
      "('Tennis Court 1', 308)\n",
      "('Tennis Court 2', 276)\n"
     ]
    }
   ],
   "source": [
    "run_task(query12)"
   ]
  },
  {
   "cell_type": "code",
   "execution_count": 29,
   "metadata": {},
   "outputs": [],
   "source": [
    "query13 = \"\"\"\n",
    "    SELECT name, STRFTIME('%m', starttime) AS month, COUNT(memid) AS memusage\n",
    "    FROM Bookings\n",
    "    INNER JOIN Facilities\n",
    "    USING (facid)\n",
    "    WHERE memid != 0\n",
    "    GROUP BY name, month\n",
    "    ORDER BY name, month;\n",
    "\"\"\""
   ]
  },
  {
   "cell_type": "code",
   "execution_count": 30,
   "metadata": {},
   "outputs": [
    {
     "name": "stdout",
     "output_type": "stream",
     "text": [
      "('Badminton Court', '07', 51)\n",
      "('Badminton Court', '08', 132)\n",
      "('Badminton Court', '09', 161)\n",
      "('Massage Room 1', '07', 77)\n",
      "('Massage Room 1', '08', 153)\n",
      "('Massage Room 1', '09', 191)\n",
      "('Massage Room 2', '07', 4)\n",
      "('Massage Room 2', '08', 9)\n",
      "('Massage Room 2', '09', 14)\n",
      "('Pool Table', '07', 103)\n",
      "('Pool Table', '08', 272)\n",
      "('Pool Table', '09', 408)\n",
      "('Snooker Table', '07', 68)\n",
      "('Snooker Table', '08', 154)\n",
      "('Snooker Table', '09', 199)\n",
      "('Squash Court', '07', 23)\n",
      "('Squash Court', '08', 85)\n",
      "('Squash Court', '09', 87)\n",
      "('Table Tennis', '07', 48)\n",
      "('Table Tennis', '08', 143)\n",
      "('Table Tennis', '09', 194)\n",
      "('Tennis Court 1', '07', 65)\n",
      "('Tennis Court 1', '08', 111)\n",
      "('Tennis Court 1', '09', 132)\n",
      "('Tennis Court 2', '07', 41)\n",
      "('Tennis Court 2', '08', 109)\n",
      "('Tennis Court 2', '09', 126)\n"
     ]
    }
   ],
   "source": [
    "run_task(query13)"
   ]
  }
 ],
 "metadata": {
  "kernelspec": {
   "display_name": "Python 3",
   "language": "python",
   "name": "python3"
  },
  "language_info": {
   "codemirror_mode": {
    "name": "ipython",
    "version": 3
   },
   "file_extension": ".py",
   "mimetype": "text/x-python",
   "name": "python",
   "nbconvert_exporter": "python",
   "pygments_lexer": "ipython3",
   "version": "3.10.11"
  },
  "orig_nbformat": 4
 },
 "nbformat": 4,
 "nbformat_minor": 2
}
